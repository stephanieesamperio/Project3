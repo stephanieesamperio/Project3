{
 "cells": [
  {
   "cell_type": "code",
   "execution_count": 19,
   "metadata": {},
   "outputs": [],
   "source": [
    "#import dependencies\n",
    "\n",
    "import pandas as pd\n",
    "import numpy as np\n",
    "import re\n",
    "import matplotlib.pyplot as plt\n",
    "import statsmodels.api as sm\n",
    "import scipy.stats as st\n",
    "pd.set_option('max_colwidth', 400)"
   ]
  },
  {
   "cell_type": "code",
   "execution_count": 2,
   "metadata": {},
   "outputs": [
    {
     "data": {
      "text/html": [
       "<div>\n",
       "<style scoped>\n",
       "    .dataframe tbody tr th:only-of-type {\n",
       "        vertical-align: middle;\n",
       "    }\n",
       "\n",
       "    .dataframe tbody tr th {\n",
       "        vertical-align: top;\n",
       "    }\n",
       "\n",
       "    .dataframe thead th {\n",
       "        text-align: right;\n",
       "    }\n",
       "</style>\n",
       "<table border=\"1\" class=\"dataframe\">\n",
       "  <thead>\n",
       "    <tr style=\"text-align: right;\">\n",
       "      <th></th>\n",
       "      <th>Have Benefits</th>\n",
       "      <th>Seeks Treatment</th>\n",
       "      <th>Care Options</th>\n",
       "      <th>Wellness Programs</th>\n",
       "      <th>Help Resources</th>\n",
       "      <th>Anonymity</th>\n",
       "    </tr>\n",
       "  </thead>\n",
       "  <tbody>\n",
       "    <tr>\n",
       "      <th>0</th>\n",
       "      <td>Yes</td>\n",
       "      <td>Yes</td>\n",
       "      <td>Not sure</td>\n",
       "      <td>No</td>\n",
       "      <td>Yes</td>\n",
       "      <td>Yes</td>\n",
       "    </tr>\n",
       "    <tr>\n",
       "      <th>1</th>\n",
       "      <td>Don't know</td>\n",
       "      <td>No</td>\n",
       "      <td>No</td>\n",
       "      <td>Don't know</td>\n",
       "      <td>Don't know</td>\n",
       "      <td>Don't know</td>\n",
       "    </tr>\n",
       "    <tr>\n",
       "      <th>2</th>\n",
       "      <td>No</td>\n",
       "      <td>No</td>\n",
       "      <td>No</td>\n",
       "      <td>No</td>\n",
       "      <td>No</td>\n",
       "      <td>Don't know</td>\n",
       "    </tr>\n",
       "    <tr>\n",
       "      <th>3</th>\n",
       "      <td>No</td>\n",
       "      <td>Yes</td>\n",
       "      <td>Yes</td>\n",
       "      <td>No</td>\n",
       "      <td>No</td>\n",
       "      <td>No</td>\n",
       "    </tr>\n",
       "    <tr>\n",
       "      <th>4</th>\n",
       "      <td>Yes</td>\n",
       "      <td>No</td>\n",
       "      <td>No</td>\n",
       "      <td>Don't know</td>\n",
       "      <td>Don't know</td>\n",
       "      <td>Don't know</td>\n",
       "    </tr>\n",
       "  </tbody>\n",
       "</table>\n",
       "</div>"
      ],
      "text/plain": [
       "  Have Benefits Seeks Treatment Care Options Wellness Programs Help Resources  \\\n",
       "0           Yes             Yes     Not sure                No            Yes   \n",
       "1    Don't know              No           No        Don't know     Don't know   \n",
       "2            No              No           No                No             No   \n",
       "3            No             Yes          Yes                No             No   \n",
       "4           Yes              No           No        Don't know     Don't know   \n",
       "\n",
       "    Anonymity  \n",
       "0         Yes  \n",
       "1  Don't know  \n",
       "2  Don't know  \n",
       "3          No  \n",
       "4  Don't know  "
      ]
     },
     "execution_count": 2,
     "metadata": {},
     "output_type": "execute_result"
    }
   ],
   "source": [
    "#creating new csv for stephanie's research question\n",
    "new_wp_mentalhealth_df = pd.read_csv(\"Resources/cleaned_workplace_mental_health.csv\")\n",
    "\n",
    "\n",
    "mental_health_assistance_df = new_wp_mentalhealth_df[['Have Benefits','Seeks Treatment', 'Care Options', 'Wellness Programs', 'Help Resources', 'Anonymity']]\n",
    "\n",
    "mental_health_assistance_df.to_csv('Resources/workplace_assistance.csv')\n",
    "\n",
    "mental_health_assistance_df.head()\n"
   ]
  },
  {
   "cell_type": "code",
   "execution_count": 3,
   "metadata": {},
   "outputs": [
    {
     "data": {
      "text/html": [
       "<div>\n",
       "<style scoped>\n",
       "    .dataframe tbody tr th:only-of-type {\n",
       "        vertical-align: middle;\n",
       "    }\n",
       "\n",
       "    .dataframe tbody tr th {\n",
       "        vertical-align: top;\n",
       "    }\n",
       "\n",
       "    .dataframe thead th {\n",
       "        text-align: right;\n",
       "    }\n",
       "</style>\n",
       "<table border=\"1\" class=\"dataframe\">\n",
       "  <thead>\n",
       "    <tr style=\"text-align: right;\">\n",
       "      <th></th>\n",
       "      <th>Have Benefits</th>\n",
       "      <th>Seeks Treatment</th>\n",
       "      <th>Care Options</th>\n",
       "      <th>Wellness Programs</th>\n",
       "      <th>Help Resources</th>\n",
       "      <th>Anonymity</th>\n",
       "    </tr>\n",
       "  </thead>\n",
       "  <tbody>\n",
       "    <tr>\n",
       "      <th>0</th>\n",
       "      <td>Yes</td>\n",
       "      <td>Yes</td>\n",
       "      <td>Not sure</td>\n",
       "      <td>No</td>\n",
       "      <td>Yes</td>\n",
       "      <td>Yes</td>\n",
       "    </tr>\n",
       "    <tr>\n",
       "      <th>1</th>\n",
       "      <td>Don't know</td>\n",
       "      <td>No</td>\n",
       "      <td>No</td>\n",
       "      <td>Don't know</td>\n",
       "      <td>Don't know</td>\n",
       "      <td>Don't know</td>\n",
       "    </tr>\n",
       "    <tr>\n",
       "      <th>2</th>\n",
       "      <td>No</td>\n",
       "      <td>No</td>\n",
       "      <td>No</td>\n",
       "      <td>No</td>\n",
       "      <td>No</td>\n",
       "      <td>Don't know</td>\n",
       "    </tr>\n",
       "    <tr>\n",
       "      <th>3</th>\n",
       "      <td>No</td>\n",
       "      <td>Yes</td>\n",
       "      <td>Yes</td>\n",
       "      <td>No</td>\n",
       "      <td>No</td>\n",
       "      <td>No</td>\n",
       "    </tr>\n",
       "    <tr>\n",
       "      <th>4</th>\n",
       "      <td>Yes</td>\n",
       "      <td>No</td>\n",
       "      <td>No</td>\n",
       "      <td>Don't know</td>\n",
       "      <td>Don't know</td>\n",
       "      <td>Don't know</td>\n",
       "    </tr>\n",
       "    <tr>\n",
       "      <th>...</th>\n",
       "      <td>...</td>\n",
       "      <td>...</td>\n",
       "      <td>...</td>\n",
       "      <td>...</td>\n",
       "      <td>...</td>\n",
       "      <td>...</td>\n",
       "    </tr>\n",
       "    <tr>\n",
       "      <th>1254</th>\n",
       "      <td>No</td>\n",
       "      <td>Yes</td>\n",
       "      <td>No</td>\n",
       "      <td>No</td>\n",
       "      <td>No</td>\n",
       "      <td>Don't know</td>\n",
       "    </tr>\n",
       "    <tr>\n",
       "      <th>1255</th>\n",
       "      <td>Yes</td>\n",
       "      <td>Yes</td>\n",
       "      <td>Yes</td>\n",
       "      <td>No</td>\n",
       "      <td>No</td>\n",
       "      <td>Yes</td>\n",
       "    </tr>\n",
       "    <tr>\n",
       "      <th>1256</th>\n",
       "      <td>Yes</td>\n",
       "      <td>Yes</td>\n",
       "      <td>Yes</td>\n",
       "      <td>No</td>\n",
       "      <td>No</td>\n",
       "      <td>Don't know</td>\n",
       "    </tr>\n",
       "    <tr>\n",
       "      <th>1257</th>\n",
       "      <td>No</td>\n",
       "      <td>No</td>\n",
       "      <td>Yes</td>\n",
       "      <td>No</td>\n",
       "      <td>No</td>\n",
       "      <td>Don't know</td>\n",
       "    </tr>\n",
       "    <tr>\n",
       "      <th>1258</th>\n",
       "      <td>Yes</td>\n",
       "      <td>Yes</td>\n",
       "      <td>Yes</td>\n",
       "      <td>No</td>\n",
       "      <td>No</td>\n",
       "      <td>Yes</td>\n",
       "    </tr>\n",
       "  </tbody>\n",
       "</table>\n",
       "<p>1259 rows × 6 columns</p>\n",
       "</div>"
      ],
      "text/plain": [
       "     Have Benefits Seeks Treatment Care Options Wellness Programs  \\\n",
       "0              Yes             Yes     Not sure                No   \n",
       "1       Don't know              No           No        Don't know   \n",
       "2               No              No           No                No   \n",
       "3               No             Yes          Yes                No   \n",
       "4              Yes              No           No        Don't know   \n",
       "...            ...             ...          ...               ...   \n",
       "1254            No             Yes           No                No   \n",
       "1255           Yes             Yes          Yes                No   \n",
       "1256           Yes             Yes          Yes                No   \n",
       "1257            No              No          Yes                No   \n",
       "1258           Yes             Yes          Yes                No   \n",
       "\n",
       "     Help Resources   Anonymity  \n",
       "0               Yes         Yes  \n",
       "1        Don't know  Don't know  \n",
       "2                No  Don't know  \n",
       "3                No          No  \n",
       "4        Don't know  Don't know  \n",
       "...             ...         ...  \n",
       "1254             No  Don't know  \n",
       "1255             No         Yes  \n",
       "1256             No  Don't know  \n",
       "1257             No  Don't know  \n",
       "1258             No         Yes  \n",
       "\n",
       "[1259 rows x 6 columns]"
      ]
     },
     "execution_count": 3,
     "metadata": {},
     "output_type": "execute_result"
    }
   ],
   "source": [
    "mental_health_assistance_df.astype(str)\n"
   ]
  },
  {
   "cell_type": "code",
   "execution_count": 4,
   "metadata": {},
   "outputs": [
    {
     "data": {
      "text/plain": [
       "Have Benefits\n",
       "Yes              477\n",
       "dtype: int64"
      ]
     },
     "execution_count": 4,
     "metadata": {},
     "output_type": "execute_result"
    }
   ],
   "source": [
    "# stephanie's question 1: if the workplace offers mental health assistance are employees more likely to seek treatment?\n",
    "\n",
    "#created a new dataframe where all benefits are yes \n",
    "\n",
    "yes_benefit_df = mental_health_assistance_df.loc[mental_health_assistance_df['Have Benefits'] == 'Yes']\n",
    "yes_benefit_count= yes_benefit_df[['Have Benefits']].value_counts()\n",
    "yes_benefit_count"
   ]
  },
  {
   "cell_type": "code",
   "execution_count": 5,
   "metadata": {},
   "outputs": [
    {
     "data": {
      "text/plain": [
       "Yes    305\n",
       "Name: Seeks Treatment, dtype: int64"
      ]
     },
     "execution_count": 5,
     "metadata": {},
     "output_type": "execute_result"
    }
   ],
   "source": [
    "#filtering through the benefits column where treatment was also yes\n",
    "\n",
    "yes_benefit_treatment_df = yes_benefit_df.loc[yes_benefit_df['Seeks Treatment'] == 'Yes']\n",
    "yes_benefit_treatment_count = yes_benefit_treatment_df['Seeks Treatment'].value_counts()\n",
    "yes_benefit_treatment_count"
   ]
  },
  {
   "cell_type": "code",
   "execution_count": 6,
   "metadata": {},
   "outputs": [
    {
     "name": "stdout",
     "output_type": "stream",
     "text": [
      "On avarege, 63.94 % of those whom have mental health coverage do seeks treatments for their mental health.\n"
     ]
    }
   ],
   "source": [
    "#find the average out of how many people that had benefits that also got treatment\n",
    "\n",
    "average_yes = yes_benefit_treatment_count/len(yes_benefit_df)\n",
    "percent_yes = average_yes*100\n",
    "print(f'On avarege, {float(percent_yes):.2f} % of those whom have mental health coverage do seeks treatments for their mental health.') "
   ]
  },
  {
   "cell_type": "code",
   "execution_count": 7,
   "metadata": {},
   "outputs": [
    {
     "data": {
      "text/plain": [
       "Have Benefits  Seeks Treatment\n",
       "No             No                 193\n",
       "               Yes                181\n",
       "dtype: int64"
      ]
     },
     "execution_count": 7,
     "metadata": {},
     "output_type": "execute_result"
    }
   ],
   "source": [
    "#created a new dataframe where workers had no benefits #benefits is no but treatment is yes\n",
    "\n",
    "No_benefit_df = mental_health_assistance_df.loc[mental_health_assistance_df['Have Benefits'] == 'No']\n",
    "No_benefit_valuecount= No_benefit_df[['Have Benefits','Seeks Treatment']].value_counts()\n",
    "No_benefit_valuecount"
   ]
  },
  {
   "cell_type": "code",
   "execution_count": 8,
   "metadata": {},
   "outputs": [],
   "source": [
    "#benefits is no but treatment is yes\n",
    "\n",
    "yestreat_nobenifit_count = 181\n",
    "\n",
    "#benefits is no & treatment is no\n",
    "\n",
    "notreat_nobenifit_count = 193"
   ]
  },
  {
   "cell_type": "code",
   "execution_count": 9,
   "metadata": {},
   "outputs": [
    {
     "data": {
      "text/plain": [
       "0.4839572192513369"
      ]
     },
     "execution_count": 9,
     "metadata": {},
     "output_type": "execute_result"
    }
   ],
   "source": [
    "#finding the average of how many people got treatment even if benefits weren't offered \n",
    "\n",
    "yestreat_nobenifit_avg = yestreat_nobenifit_count/len(No_benefit_df)\n",
    "yestreat_nobenifit_avg"
   ]
  },
  {
   "cell_type": "code",
   "execution_count": 10,
   "metadata": {},
   "outputs": [
    {
     "name": "stdout",
     "output_type": "stream",
     "text": [
      "On avarege, 48.40 % of those whom do not have mental health coverage still do seeks treatments for their mental health.\n"
     ]
    }
   ],
   "source": [
    "percent_no = yestreat_nobenifit_avg*100\n",
    "print(f'On avarege, {float(percent_no):.2f} % of those whom do not have mental health coverage still do seeks treatments for their mental health.') \n"
   ]
  },
  {
   "cell_type": "code",
   "execution_count": 11,
   "metadata": {},
   "outputs": [
    {
     "name": "stdout",
     "output_type": "stream",
     "text": [
      "Overall in the dataset, 637 individuals do seeks treatments for their mental health, regardless of wheter their employers offers metal health benefits.\n"
     ]
    }
   ],
   "source": [
    "#how many got treatment whether benefits was offered or not\n",
    "\n",
    "amount_all = len(mental_health_assistance_df.loc[mental_health_assistance_df['Seeks Treatment'] == 'Yes'])\n",
    "amount_all\n",
    "print(f'Overall in the dataset, {amount_all} individuals do seeks treatments for their mental health, regardless of wheter their employers offers metal health benefits.') "
   ]
  },
  {
   "cell_type": "code",
   "execution_count": 12,
   "metadata": {},
   "outputs": [
    {
     "name": "stdout",
     "output_type": "stream",
     "text": [
      "Overall, 50.60 % do seeks treatments for their mental health.\n"
     ]
    }
   ],
   "source": [
    "#finding the average of how many people on average get treatment\n",
    "\n",
    "average_all = (amount_all/len(mental_health_assistance_df))*100\n",
    "average_all\n",
    "\n",
    "#Results: about 50% of people get treatment\n",
    "\n",
    "print(f'Overall, {float(average_all):.2f} % do seeks treatments for their mental health.') \n"
   ]
  },
  {
   "cell_type": "code",
   "execution_count": 13,
   "metadata": {},
   "outputs": [
    {
     "data": {
      "image/png": "[encoded data removed]",
      "text/plain": [
       "<Figure size 640x480 with 1 Axes>"
      ]
     },
     "metadata": {},
     "output_type": "display_data"
    }
   ],
   "source": [
    "#create pie chart\n",
    "\n",
    "q1_piechart= [305, 172]\n",
    "mylabels = [\"Benefits + Treatment\", \"Benefits + No Treatment\"]\n",
    "mcolors = [\"pink\",\"lavender\"]\n",
    "\n",
    "\n",
    "plt.pie(q1_piechart, labels = mylabels, colors = mcolors )\n",
    "plt.title(\"Benefits v. Treatment\")\n",
    "\n",
    "plt.savefig('Resources/benefits_treatment.png' ,bbox_inches = 'tight' )\n",
    "plt.show()\n"
   ]
  },
  {
   "cell_type": "code",
   "execution_count": 24,
   "metadata": {},
   "outputs": [
    {
     "data": {
      "text/html": [
       "<div>\n",
       "<style scoped>\n",
       "    .dataframe tbody tr th:only-of-type {\n",
       "        vertical-align: middle;\n",
       "    }\n",
       "\n",
       "    .dataframe tbody tr th {\n",
       "        vertical-align: top;\n",
       "    }\n",
       "\n",
       "    .dataframe thead th {\n",
       "        text-align: right;\n",
       "    }\n",
       "</style>\n",
       "<table border=\"1\" class=\"dataframe\">\n",
       "  <thead>\n",
       "    <tr style=\"text-align: right;\">\n",
       "      <th></th>\n",
       "      <th>Have Benefits</th>\n",
       "      <th>Seeks Treatment</th>\n",
       "      <th>Care Options</th>\n",
       "      <th>Wellness Programs</th>\n",
       "      <th>Help Resources</th>\n",
       "      <th>Anonymity</th>\n",
       "    </tr>\n",
       "  </thead>\n",
       "  <tbody>\n",
       "    <tr>\n",
       "      <th>0</th>\n",
       "      <td>Yes</td>\n",
       "      <td>Yes</td>\n",
       "      <td>Not sure</td>\n",
       "      <td>No</td>\n",
       "      <td>Yes</td>\n",
       "      <td>Yes</td>\n",
       "    </tr>\n",
       "    <tr>\n",
       "      <th>4</th>\n",
       "      <td>Yes</td>\n",
       "      <td>No</td>\n",
       "      <td>No</td>\n",
       "      <td>Don't know</td>\n",
       "      <td>Don't know</td>\n",
       "      <td>Don't know</td>\n",
       "    </tr>\n",
       "    <tr>\n",
       "      <th>5</th>\n",
       "      <td>Yes</td>\n",
       "      <td>No</td>\n",
       "      <td>Not sure</td>\n",
       "      <td>No</td>\n",
       "      <td>Don't know</td>\n",
       "      <td>Don't know</td>\n",
       "    </tr>\n",
       "    <tr>\n",
       "      <th>8</th>\n",
       "      <td>Yes</td>\n",
       "      <td>Yes</td>\n",
       "      <td>Yes</td>\n",
       "      <td>No</td>\n",
       "      <td>No</td>\n",
       "      <td>No</td>\n",
       "    </tr>\n",
       "    <tr>\n",
       "      <th>12</th>\n",
       "      <td>Yes</td>\n",
       "      <td>Yes</td>\n",
       "      <td>Yes</td>\n",
       "      <td>No</td>\n",
       "      <td>No</td>\n",
       "      <td>Don't know</td>\n",
       "    </tr>\n",
       "  </tbody>\n",
       "</table>\n",
       "</div>"
      ],
      "text/plain": [
       "   Have Benefits Seeks Treatment Care Options Wellness Programs  \\\n",
       "0            Yes             Yes     Not sure                No   \n",
       "4            Yes              No           No        Don't know   \n",
       "5            Yes              No     Not sure                No   \n",
       "8            Yes             Yes          Yes                No   \n",
       "12           Yes             Yes          Yes                No   \n",
       "\n",
       "   Help Resources   Anonymity  \n",
       "0             Yes         Yes  \n",
       "4      Don't know  Don't know  \n",
       "5      Don't know  Don't know  \n",
       "8              No          No  \n",
       "12             No  Don't know  "
      ]
     },
     "execution_count": 24,
     "metadata": {},
     "output_type": "execute_result"
    }
   ],
   "source": [
    "yes_benefit_df.head()"
   ]
  },
  {
   "cell_type": "code",
   "execution_count": 26,
   "metadata": {},
   "outputs": [
    {
     "name": "stdout",
     "output_type": "stream",
     "text": [
      "The correlation between both factors is nan\n"
     ]
    },
    {
     "name": "stderr",
     "output_type": "stream",
     "text": [
      "/Users/j.mai.le/anaconda3/lib/python3.11/site-packages/scipy/stats/_stats_py.py:4424: ConstantInputWarning: An input array is constant; the correlation coefficient is not defined.\n",
      "  warnings.warn(stats.ConstantInputWarning(msg))\n"
     ]
    }
   ],
   "source": [
    "correlation = st.pearsonr(yes_benefit_df['Have Benefits'],yes_benefit_df['Seeks Treatment'])\n",
    "print(f\"The correlation between both factors is {round(correlation[0],2)}\")"
   ]
  },
  {
   "cell_type": "code",
   "execution_count": 14,
   "metadata": {},
   "outputs": [
    {
     "data": {
      "image/png": "[encoded data removed]",
      "text/plain": [
       "<Figure size 640x480 with 1 Axes>"
      ]
     },
     "metadata": {},
     "output_type": "display_data"
    }
   ],
   "source": [
    "#create scatter plot\n",
    "\n",
    "y = [float(percent_no), float(average_all), float(percent_yes)] \n",
    "x = [\"Yes Treatment W/ No Benefits\",\"Yes Treatment\",\"Yes Treatment W/ Benefits\"]\n",
    "colors = ['pink','mediumaquamarine','lightblue']\n",
    "\n",
    "plt.scatter(x,y, c = colors)\n",
    "\n",
    "\n",
    "\n",
    "plt.savefig('Resources/scatter_benefits_treatment.png', bbox_inches = 'tight')\n",
    "plt.show()\n"
   ]
  },
  {
   "cell_type": "code",
   "execution_count": 15,
   "metadata": {},
   "outputs": [
    {
     "data": {
      "image/png": "[encoded data removed]",
      "text/plain": [
       "<Figure size 640x480 with 1 Axes>"
      ]
     },
     "metadata": {},
     "output_type": "display_data"
    }
   ],
   "source": [
    "#create line plot\n",
    "\n",
    "plt.plot(x,y)\n",
    "\n",
    "plt.savefig('Resources/line_benefits_treatment.png', bbox_inches = 'tight')\n",
    "plt.show()"
   ]
  },
  {
   "cell_type": "code",
   "execution_count": 16,
   "metadata": {},
   "outputs": [
    {
     "data": {
      "text/plain": [
       "Yes    151\n",
       "Name: Anonymity, dtype: int64"
      ]
     },
     "execution_count": 16,
     "metadata": {},
     "output_type": "execute_result"
    }
   ],
   "source": [
    "#stephanie's question 2: if the worker who have benefits is anonymously protected,  are they more likely to seek out help from their workplace mental health assistance programs? \n",
    "\n",
    "yes_benefir_anon_df = yes_benefit_df.loc[yes_benefit_df['Anonymity'] == 'Yes']\n",
    "yes_benefir_anon_treatment_df = yes_benefir_anon_df.loc[yes_benefir_anon_df['Seeks Treatment'] == 'Yes']\n",
    "yes_benefir_anon_treatment_count = yes_benefir_anon_treatment_df['Anonymity'].value_counts()\n",
    "yes_benefir_anon_treatment_count"
   ]
  },
  {
   "cell_type": "code",
   "execution_count": 17,
   "metadata": {},
   "outputs": [
    {
     "data": {
      "text/plain": [
       "No    6\n",
       "Name: Anonymity, dtype: int64"
      ]
     },
     "execution_count": 17,
     "metadata": {},
     "output_type": "execute_result"
    }
   ],
   "source": [
    "#check how many got treatment at work when no anonymity was offered\n",
    "\n",
    "yes_benefir_not_anon_df = yes_benefit_df.loc[yes_benefit_df['Anonymity'] == 'No']\n",
    "yes_benefir_treatment_not_anon_df = yes_benefir_not_anon_df.loc[yes_benefir_not_anon_df['Seeks Treatment'] == 'Yes']\n",
    "yes_treatment_not_anon_count = yes_benefir_treatment_not_anon_df['Anonymity'].value_counts()\n",
    "yes_treatment_not_anon_count"
   ]
  },
  {
   "cell_type": "code",
   "execution_count": 18,
   "metadata": {},
   "outputs": [
    {
     "data": {
      "image/png": "[encoded data removed]",
      "text/plain": [
       "<Figure size 640x480 with 1 Axes>"
      ]
     },
     "metadata": {},
     "output_type": "display_data"
    }
   ],
   "source": [
    "#create pie chart\n",
    "\n",
    "q2_piechart= [151, 6]\n",
    "mylabels = [ \"Treatment +  Anon \", \"Treatment +  No Anon\"]\n",
    "mcolors = [\"lavender\",\"pink\"]\n",
    "\n",
    "\n",
    "plt.pie(q1_piechart, labels = mylabels, colors = mcolors )\n",
    "plt.title(\"Anonymity v. Treatment\")\n",
    "\n",
    "plt.savefig('Resources/anonymity_treatment.png',bbox_inches = 'tight')\n",
    "#plt.show()"
   ]
  },
  {
   "cell_type": "code",
   "execution_count": null,
   "metadata": {},
   "outputs": [],
   "source": []
  },
  {
   "cell_type": "code",
   "execution_count": null,
   "metadata": {},
   "outputs": [],
   "source": []
  },
  {
   "cell_type": "code",
   "execution_count": null,
   "metadata": {},
   "outputs": [],
   "source": []
  }
 ],
 "metadata": {
  "kernelspec": {
   "display_name": "Python 3 (ipykernel)",
   "language": "python",
   "name": "python3"
  },
  "language_info": {
   "codemirror_mode": {
    "name": "ipython",
    "version": 3
   },
   "file_extension": ".py",
   "mimetype": "text/x-python",
   "name": "python",
   "nbconvert_exporter": "python",
   "pygments_lexer": "ipython3",
   "version": "3.11.4"
  }
 },
 "nbformat": 4,
 "nbformat_minor": 2
}
